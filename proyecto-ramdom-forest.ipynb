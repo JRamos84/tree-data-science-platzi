{
 "cells": [
  {
   "cell_type": "markdown",
   "id": "83c0d959-e687-404e-9542-b7b946076b1e",
   "metadata": {},
   "source": [
    "## Proyecto Census Income"
   ]
  },
  {
   "cell_type": "code",
   "execution_count": 1,
   "id": "4c32978d-3eb9-4579-8c72-ee7eb512ba8e",
   "metadata": {},
   "outputs": [],
   "source": [
    "#Importamos las librerias principales\n",
    "import numpy as np \n",
    "import pandas as pd \n",
    "import matplotlib.pyplot as plt\n",
    "import seaborn as sns "
   ]
  },
  {
   "cell_type": "markdown",
   "id": "7c4a7bc5-c54e-47c5-a8b5-b288bef9f3f2",
   "metadata": {},
   "source": [
    "Cargamos los datos"
   ]
  },
  {
   "cell_type": "code",
   "execution_count": 2,
   "id": "b738c38f-4fb7-4c4b-a719-8cee8ace87ca",
   "metadata": {},
   "outputs": [],
   "source": [
    "df = pd.read_csv('adult.csv')"
   ]
  },
  {
   "cell_type": "code",
   "execution_count": 3,
   "id": "d7fab3fc-809f-4e04-8846-b5bebacf58b0",
   "metadata": {},
   "outputs": [
    {
     "data": {
      "text/html": [
       "<div>\n",
       "<style scoped>\n",
       "    .dataframe tbody tr th:only-of-type {\n",
       "        vertical-align: middle;\n",
       "    }\n",
       "\n",
       "    .dataframe tbody tr th {\n",
       "        vertical-align: top;\n",
       "    }\n",
       "\n",
       "    .dataframe thead th {\n",
       "        text-align: right;\n",
       "    }\n",
       "</style>\n",
       "<table border=\"1\" class=\"dataframe\">\n",
       "  <thead>\n",
       "    <tr style=\"text-align: right;\">\n",
       "      <th></th>\n",
       "      <th>Age</th>\n",
       "      <th>Workclass</th>\n",
       "      <th>Final Weight</th>\n",
       "      <th>Education</th>\n",
       "      <th>EducationNum</th>\n",
       "      <th>Marital Status</th>\n",
       "      <th>Occupation</th>\n",
       "      <th>Relationship</th>\n",
       "      <th>Race</th>\n",
       "      <th>Gender</th>\n",
       "      <th>Capital Gain</th>\n",
       "      <th>capital loss</th>\n",
       "      <th>Hours per Week</th>\n",
       "      <th>Native Country</th>\n",
       "      <th>Income</th>\n",
       "    </tr>\n",
       "  </thead>\n",
       "  <tbody>\n",
       "    <tr>\n",
       "      <th>0</th>\n",
       "      <td>39</td>\n",
       "      <td>State-gov</td>\n",
       "      <td>77516</td>\n",
       "      <td>Bachelors</td>\n",
       "      <td>13</td>\n",
       "      <td>Never-married</td>\n",
       "      <td>Adm-clerical</td>\n",
       "      <td>Not-in-family</td>\n",
       "      <td>White</td>\n",
       "      <td>Male</td>\n",
       "      <td>2174</td>\n",
       "      <td>0</td>\n",
       "      <td>40</td>\n",
       "      <td>United-States</td>\n",
       "      <td>&lt;=50K</td>\n",
       "    </tr>\n",
       "    <tr>\n",
       "      <th>1</th>\n",
       "      <td>50</td>\n",
       "      <td>Self-emp-not-inc</td>\n",
       "      <td>83311</td>\n",
       "      <td>Bachelors</td>\n",
       "      <td>13</td>\n",
       "      <td>Married-civ-spouse</td>\n",
       "      <td>Exec-managerial</td>\n",
       "      <td>Husband</td>\n",
       "      <td>White</td>\n",
       "      <td>Male</td>\n",
       "      <td>0</td>\n",
       "      <td>0</td>\n",
       "      <td>13</td>\n",
       "      <td>United-States</td>\n",
       "      <td>&lt;=50K</td>\n",
       "    </tr>\n",
       "    <tr>\n",
       "      <th>2</th>\n",
       "      <td>38</td>\n",
       "      <td>Private</td>\n",
       "      <td>215646</td>\n",
       "      <td>HS-grad</td>\n",
       "      <td>9</td>\n",
       "      <td>Divorced</td>\n",
       "      <td>Handlers-cleaners</td>\n",
       "      <td>Not-in-family</td>\n",
       "      <td>White</td>\n",
       "      <td>Male</td>\n",
       "      <td>0</td>\n",
       "      <td>0</td>\n",
       "      <td>40</td>\n",
       "      <td>United-States</td>\n",
       "      <td>&lt;=50K</td>\n",
       "    </tr>\n",
       "    <tr>\n",
       "      <th>3</th>\n",
       "      <td>53</td>\n",
       "      <td>Private</td>\n",
       "      <td>234721</td>\n",
       "      <td>11th</td>\n",
       "      <td>7</td>\n",
       "      <td>Married-civ-spouse</td>\n",
       "      <td>Handlers-cleaners</td>\n",
       "      <td>Husband</td>\n",
       "      <td>Black</td>\n",
       "      <td>Male</td>\n",
       "      <td>0</td>\n",
       "      <td>0</td>\n",
       "      <td>40</td>\n",
       "      <td>United-States</td>\n",
       "      <td>&lt;=50K</td>\n",
       "    </tr>\n",
       "    <tr>\n",
       "      <th>4</th>\n",
       "      <td>28</td>\n",
       "      <td>Private</td>\n",
       "      <td>338409</td>\n",
       "      <td>Bachelors</td>\n",
       "      <td>13</td>\n",
       "      <td>Married-civ-spouse</td>\n",
       "      <td>Prof-specialty</td>\n",
       "      <td>Wife</td>\n",
       "      <td>Black</td>\n",
       "      <td>Female</td>\n",
       "      <td>0</td>\n",
       "      <td>0</td>\n",
       "      <td>40</td>\n",
       "      <td>Cuba</td>\n",
       "      <td>&lt;=50K</td>\n",
       "    </tr>\n",
       "  </tbody>\n",
       "</table>\n",
       "</div>"
      ],
      "text/plain": [
       "   Age          Workclass  Final Weight   Education  EducationNum  \\\n",
       "0   39          State-gov         77516   Bachelors            13   \n",
       "1   50   Self-emp-not-inc         83311   Bachelors            13   \n",
       "2   38            Private        215646     HS-grad             9   \n",
       "3   53            Private        234721        11th             7   \n",
       "4   28            Private        338409   Bachelors            13   \n",
       "\n",
       "        Marital Status          Occupation    Relationship    Race   Gender  \\\n",
       "0        Never-married        Adm-clerical   Not-in-family   White     Male   \n",
       "1   Married-civ-spouse     Exec-managerial         Husband   White     Male   \n",
       "2             Divorced   Handlers-cleaners   Not-in-family   White     Male   \n",
       "3   Married-civ-spouse   Handlers-cleaners         Husband   Black     Male   \n",
       "4   Married-civ-spouse      Prof-specialty            Wife   Black   Female   \n",
       "\n",
       "   Capital Gain  capital loss  Hours per Week  Native Country  Income  \n",
       "0          2174             0              40   United-States   <=50K  \n",
       "1             0             0              13   United-States   <=50K  \n",
       "2             0             0              40   United-States   <=50K  \n",
       "3             0             0              40   United-States   <=50K  \n",
       "4             0             0              40            Cuba   <=50K  "
      ]
     },
     "execution_count": 3,
     "metadata": {},
     "output_type": "execute_result"
    }
   ],
   "source": [
    "df.head()"
   ]
  },
  {
   "cell_type": "markdown",
   "id": "5bccfd76-2e19-4c68-addf-8d13e863eb0d",
   "metadata": {},
   "source": [
    "### Análisis exploratorio de datos"
   ]
  },
  {
   "cell_type": "code",
   "execution_count": 4,
   "id": "9b8c1032-9857-4f6e-9a02-c425e297a6da",
   "metadata": {},
   "outputs": [
    {
     "data": {
      "text/plain": [
       "(32561, 15)"
      ]
     },
     "execution_count": 4,
     "metadata": {},
     "output_type": "execute_result"
    }
   ],
   "source": [
    "df.shape"
   ]
  },
  {
   "cell_type": "code",
   "execution_count": 5,
   "id": "5746ea5e-0217-42b1-80e7-1f9de21d0ba7",
   "metadata": {},
   "outputs": [
    {
     "data": {
      "text/plain": [
       "Age                int64\n",
       "Workclass         object\n",
       "Final Weight       int64\n",
       "Education         object\n",
       "EducationNum       int64\n",
       "Marital Status    object\n",
       "Occupation        object\n",
       "Relationship      object\n",
       "Race              object\n",
       "Gender            object\n",
       "Capital Gain       int64\n",
       "capital loss       int64\n",
       "Hours per Week     int64\n",
       "Native Country    object\n",
       "Income            object\n",
       "dtype: object"
      ]
     },
     "execution_count": 5,
     "metadata": {},
     "output_type": "execute_result"
    }
   ],
   "source": [
    "## Visualizamos la info de los datos\n",
    "df.dtypes"
   ]
  },
  {
   "cell_type": "markdown",
   "id": "64172bc0-db74-46cc-b1d8-f5178f3790a5",
   "metadata": {},
   "source": [
    "#### tenemos 6 variables númerica y 9 varibles categórica"
   ]
  },
  {
   "cell_type": "code",
   "execution_count": 6,
   "id": "4f4d1745-bc28-424b-b118-ba1efd346fb0",
   "metadata": {},
   "outputs": [
    {
     "name": "stdout",
     "output_type": "stream",
     "text": [
      "<class 'pandas.core.frame.DataFrame'>\n",
      "RangeIndex: 32561 entries, 0 to 32560\n",
      "Data columns (total 15 columns):\n",
      " #   Column          Non-Null Count  Dtype \n",
      "---  ------          --------------  ----- \n",
      " 0   Age             32561 non-null  int64 \n",
      " 1   Workclass       32561 non-null  object\n",
      " 2   Final Weight    32561 non-null  int64 \n",
      " 3   Education       32561 non-null  object\n",
      " 4   EducationNum    32561 non-null  int64 \n",
      " 5   Marital Status  32561 non-null  object\n",
      " 6   Occupation      32561 non-null  object\n",
      " 7   Relationship    32561 non-null  object\n",
      " 8   Race            32561 non-null  object\n",
      " 9   Gender          32561 non-null  object\n",
      " 10  Capital Gain    32561 non-null  int64 \n",
      " 11  capital loss    32561 non-null  int64 \n",
      " 12  Hours per Week  32561 non-null  int64 \n",
      " 13  Native Country  32561 non-null  object\n",
      " 14  Income          32561 non-null  object\n",
      "dtypes: int64(6), object(9)\n",
      "memory usage: 3.7+ MB\n"
     ]
    }
   ],
   "source": [
    "df.info()"
   ]
  },
  {
   "cell_type": "code",
   "execution_count": 7,
   "id": "24b598c8-95ed-4592-b698-afadc04dd6f7",
   "metadata": {},
   "outputs": [
    {
     "data": {
      "text/plain": [
       "Income\n",
       "<=50K    24720\n",
       ">50K      7841\n",
       "Name: count, dtype: int64"
      ]
     },
     "execution_count": 7,
     "metadata": {},
     "output_type": "execute_result"
    }
   ],
   "source": [
    "# Exploramos un poco la variable target\n",
    "df['Income'].value_counts()"
   ]
  },
  {
   "cell_type": "code",
   "execution_count": 8,
   "id": "12390f71-cc18-4829-9403-1951137464f1",
   "metadata": {},
   "outputs": [
    {
     "data": {
      "text/plain": [
       "Age               0\n",
       "Workclass         0\n",
       "Final Weight      0\n",
       "Education         0\n",
       "EducationNum      0\n",
       "Marital Status    0\n",
       "Occupation        0\n",
       "Relationship      0\n",
       "Race              0\n",
       "Gender            0\n",
       "Capital Gain      0\n",
       "capital loss      0\n",
       "Hours per Week    0\n",
       "Native Country    0\n",
       "Income            0\n",
       "dtype: int64"
      ]
     },
     "execution_count": 8,
     "metadata": {},
     "output_type": "execute_result"
    }
   ],
   "source": [
    "# Verificamos valores de missings\n",
    "df.isnull().sum()"
   ]
  },
  {
   "cell_type": "markdown",
   "id": "051c51ad-4022-408e-8e06-c7ea15ee39f2",
   "metadata": {},
   "source": [
    "### Procesamiento de datos"
   ]
  },
  {
   "cell_type": "code",
   "execution_count": 9,
   "id": "491d74b3-4b02-42ca-9207-56caeb9c60c0",
   "metadata": {},
   "outputs": [],
   "source": [
    "# Separamos X e y\n",
    "X = df.drop('Income', axis=1)\n",
    "y = df['Income']"
   ]
  },
  {
   "cell_type": "code",
   "execution_count": 10,
   "id": "832f290b-2e09-40bb-b534-9b31250a19b9",
   "metadata": {},
   "outputs": [],
   "source": [
    "# Separamos datos de train y de test\n",
    "from sklearn.model_selection import train_test_split\n",
    "X_train,X_test,y_train,y_test = train_test_split(X,y, test_size= 0.3, random_state=42)"
   ]
  },
  {
   "cell_type": "code",
   "execution_count": 11,
   "id": "2307ef2f-a636-4955-9bf8-1c0c0ff94b9c",
   "metadata": {},
   "outputs": [
    {
     "data": {
      "text/plain": [
       "((22792, 14), (9769, 14))"
      ]
     },
     "execution_count": 11,
     "metadata": {},
     "output_type": "execute_result"
    }
   ],
   "source": [
    "# shape de x_train y x_test\n",
    "X_train.shape, X_test.shape"
   ]
  },
  {
   "cell_type": "markdown",
   "id": "30784b6e-44e0-4787-88c3-6b324f05905a",
   "metadata": {},
   "source": [
    "### Entrenamiento de modelo de clasificación de árbol de decisión"
   ]
  },
  {
   "cell_type": "code",
   "execution_count": 12,
   "id": "a8737fae-a1d5-43a2-9e5b-0a201195daa2",
   "metadata": {},
   "outputs": [],
   "source": [
    "import category_encoders as ce\n",
    "encoder = ce.OrdinalEncoder()\n",
    "X_train = encoder.fit_transform(X_train)\n",
    "X_test = encoder.transform(X_test)"
   ]
  },
  {
   "cell_type": "code",
   "execution_count": 13,
   "id": "89123add-9c75-44da-bcdc-574597dcddcb",
   "metadata": {},
   "outputs": [
    {
     "data": {
      "text/html": [
       "<div>\n",
       "<style scoped>\n",
       "    .dataframe tbody tr th:only-of-type {\n",
       "        vertical-align: middle;\n",
       "    }\n",
       "\n",
       "    .dataframe tbody tr th {\n",
       "        vertical-align: top;\n",
       "    }\n",
       "\n",
       "    .dataframe thead th {\n",
       "        text-align: right;\n",
       "    }\n",
       "</style>\n",
       "<table border=\"1\" class=\"dataframe\">\n",
       "  <thead>\n",
       "    <tr style=\"text-align: right;\">\n",
       "      <th></th>\n",
       "      <th>Age</th>\n",
       "      <th>Workclass</th>\n",
       "      <th>Final Weight</th>\n",
       "      <th>Education</th>\n",
       "      <th>EducationNum</th>\n",
       "      <th>Marital Status</th>\n",
       "      <th>Occupation</th>\n",
       "      <th>Relationship</th>\n",
       "      <th>Race</th>\n",
       "      <th>Gender</th>\n",
       "      <th>Capital Gain</th>\n",
       "      <th>capital loss</th>\n",
       "      <th>Hours per Week</th>\n",
       "      <th>Native Country</th>\n",
       "    </tr>\n",
       "  </thead>\n",
       "  <tbody>\n",
       "    <tr>\n",
       "      <th>19749</th>\n",
       "      <td>34</td>\n",
       "      <td>1</td>\n",
       "      <td>56460</td>\n",
       "      <td>1</td>\n",
       "      <td>9</td>\n",
       "      <td>1</td>\n",
       "      <td>1</td>\n",
       "      <td>1</td>\n",
       "      <td>1</td>\n",
       "      <td>1</td>\n",
       "      <td>0</td>\n",
       "      <td>2179</td>\n",
       "      <td>12</td>\n",
       "      <td>1</td>\n",
       "    </tr>\n",
       "    <tr>\n",
       "      <th>1216</th>\n",
       "      <td>48</td>\n",
       "      <td>1</td>\n",
       "      <td>243631</td>\n",
       "      <td>2</td>\n",
       "      <td>10</td>\n",
       "      <td>1</td>\n",
       "      <td>2</td>\n",
       "      <td>2</td>\n",
       "      <td>2</td>\n",
       "      <td>2</td>\n",
       "      <td>7688</td>\n",
       "      <td>0</td>\n",
       "      <td>40</td>\n",
       "      <td>1</td>\n",
       "    </tr>\n",
       "    <tr>\n",
       "      <th>27962</th>\n",
       "      <td>23</td>\n",
       "      <td>2</td>\n",
       "      <td>56402</td>\n",
       "      <td>2</td>\n",
       "      <td>10</td>\n",
       "      <td>1</td>\n",
       "      <td>3</td>\n",
       "      <td>2</td>\n",
       "      <td>1</td>\n",
       "      <td>2</td>\n",
       "      <td>0</td>\n",
       "      <td>0</td>\n",
       "      <td>30</td>\n",
       "      <td>1</td>\n",
       "    </tr>\n",
       "    <tr>\n",
       "      <th>23077</th>\n",
       "      <td>56</td>\n",
       "      <td>3</td>\n",
       "      <td>255406</td>\n",
       "      <td>1</td>\n",
       "      <td>9</td>\n",
       "      <td>2</td>\n",
       "      <td>4</td>\n",
       "      <td>3</td>\n",
       "      <td>1</td>\n",
       "      <td>1</td>\n",
       "      <td>0</td>\n",
       "      <td>0</td>\n",
       "      <td>40</td>\n",
       "      <td>1</td>\n",
       "    </tr>\n",
       "    <tr>\n",
       "      <th>10180</th>\n",
       "      <td>17</td>\n",
       "      <td>4</td>\n",
       "      <td>297246</td>\n",
       "      <td>3</td>\n",
       "      <td>7</td>\n",
       "      <td>3</td>\n",
       "      <td>5</td>\n",
       "      <td>4</td>\n",
       "      <td>1</td>\n",
       "      <td>1</td>\n",
       "      <td>0</td>\n",
       "      <td>0</td>\n",
       "      <td>9</td>\n",
       "      <td>1</td>\n",
       "    </tr>\n",
       "  </tbody>\n",
       "</table>\n",
       "</div>"
      ],
      "text/plain": [
       "       Age  Workclass  Final Weight  Education  EducationNum  Marital Status  \\\n",
       "19749   34          1         56460          1             9               1   \n",
       "1216    48          1        243631          2            10               1   \n",
       "27962   23          2         56402          2            10               1   \n",
       "23077   56          3        255406          1             9               2   \n",
       "10180   17          4        297246          3             7               3   \n",
       "\n",
       "       Occupation  Relationship  Race  Gender  Capital Gain  capital loss  \\\n",
       "19749           1             1     1       1             0          2179   \n",
       "1216            2             2     2       2          7688             0   \n",
       "27962           3             2     1       2             0             0   \n",
       "23077           4             3     1       1             0             0   \n",
       "10180           5             4     1       1             0             0   \n",
       "\n",
       "       Hours per Week  Native Country  \n",
       "19749              12               1  \n",
       "1216               40               1  \n",
       "27962              30               1  \n",
       "23077              40               1  \n",
       "10180               9               1  "
      ]
     },
     "execution_count": 13,
     "metadata": {},
     "output_type": "execute_result"
    }
   ],
   "source": [
    "## Verificamos la transformación\n",
    "X_train.head()"
   ]
  },
  {
   "cell_type": "code",
   "execution_count": 15,
   "id": "fc5dc445-616d-459d-be69-3d3514dce2ac",
   "metadata": {},
   "outputs": [],
   "source": [
    "## Importar árbol de decisión\n",
    "from sklearn.ensemble import RandomForestClassifier\n",
    "# Creación de modelo \n",
    "tree =RandomForestClassifier(n_estimators=10, random_state=42)"
   ]
  },
  {
   "cell_type": "code",
   "execution_count": null,
   "id": "95a0e9ae-ae43-465c-8711-60745de52dde",
   "metadata": {},
   "outputs": [],
   "source": [
    "tree.fit(X_train,y_train)"
   ]
  },
  {
   "cell_type": "code",
   "execution_count": null,
   "id": "30416117-b7a0-46aa-b0f0-45da3c5f9090",
   "metadata": {},
   "outputs": [],
   "source": [
    "#Calculo de las predicciones en Train y Test\n",
    "y_train_pred_tree = tree.predict(X_train)"
   ]
  },
  {
   "cell_type": "code",
   "execution_count": null,
   "id": "09659db9-acc5-40a1-904a-7b2c0ede1aeb",
   "metadata": {},
   "outputs": [],
   "source": [
    "y_test_pred_tree = tree.predict(X_test)"
   ]
  },
  {
   "cell_type": "markdown",
   "id": "b99d1827-8198-4d3a-b5d5-8c3534fc4d54",
   "metadata": {},
   "source": [
    "### Entrenamiento de modelo de clasificación "
   ]
  },
  {
   "cell_type": "code",
   "execution_count": null,
   "id": "be29982c-8d06-4a3e-8923-bb1cea476c01",
   "metadata": {},
   "outputs": [],
   "source": [
    "#Calculo de metricas \n",
    "from sklearn.metrics import accuracy_score\n",
    "\n",
    "#Calculo el accuracy en Train\n",
    "train_accurace_tree = accuracy_score(y_train,y_train_pred_tree)\n",
    "\n",
    "#Calculo el accuracy en Test\n",
    "test_accurace_tree = accuracy_score(y_test,y_test_pred_tree)\n",
    "print('El accuracy en train es: ',train_accurace_tree )\n",
    "print('El accuracy en test es: ',test_accurace_tree )"
   ]
  },
  {
   "cell_type": "code",
   "execution_count": null,
   "id": "68385b0b-1f0f-47aa-be73-6ffed1ede1e4",
   "metadata": {},
   "outputs": [],
   "source": [
    "#Verificamos el feature importances\n",
    "feature_importances_df = pd.DataFrame(\n",
    "    {\"feature\":list(X.columns),\n",
    "     \"importances\":tree.feature_importances_}\n",
    ").sort_values(\"importances\",ascending=False)\n",
    "# Mostrar\n",
    "feature_importances_df"
   ]
  },
  {
   "cell_type": "code",
   "execution_count": null,
   "id": "60b04b26-fa14-4f06-8f0d-b15feb8ae9e1",
   "metadata": {},
   "outputs": [],
   "source": [
    "import seaborn as sns\n",
    "import matplotlib.pyplot as plt\n",
    "sns.barplot(x=feature_importances_df.feature , y=feature_importances_df.importances)\n",
    "plt.xlabel('Features Importances Score')\n",
    "plt.ylabel('Features')\n",
    "plt.title(\"Visualización de la importancia de cada Feature\")\n",
    "plt.xticks(rotation=45, fontsize=\"x-large\", horizontalalignment=\"right\", fontweight='light')\n",
    "plt.show()"
   ]
  }
 ],
 "metadata": {
  "kernelspec": {
   "display_name": "Python 3 (ipykernel)",
   "language": "python",
   "name": "python3"
  },
  "language_info": {
   "codemirror_mode": {
    "name": "ipython",
    "version": 3
   },
   "file_extension": ".py",
   "mimetype": "text/x-python",
   "name": "python",
   "nbconvert_exporter": "python",
   "pygments_lexer": "ipython3",
   "version": "3.11.5"
  }
 },
 "nbformat": 4,
 "nbformat_minor": 5
}
