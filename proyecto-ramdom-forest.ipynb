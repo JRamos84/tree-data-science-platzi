{
 "cells": [
  {
   "cell_type": "markdown",
   "id": "83c0d959-e687-404e-9542-b7b946076b1e",
   "metadata": {},
   "source": [
    "## Proyecto Census Income"
   ]
  },
  {
   "cell_type": "code",
   "execution_count": 1,
   "id": "4c32978d-3eb9-4579-8c72-ee7eb512ba8e",
   "metadata": {},
   "outputs": [],
   "source": [
    "#Importamos las librerias principales\n",
    "import numpy as np \n",
    "import pandas as pd \n",
    "import matplotlib.pyplot as plt\n",
    "import seaborn as sns "
   ]
  },
  {
   "cell_type": "code",
   "execution_count": null,
   "id": "b738c38f-4fb7-4c4b-a719-8cee8ace87ca",
   "metadata": {},
   "outputs": [],
   "source": []
  }
 ],
 "metadata": {
  "kernelspec": {
   "display_name": "Python 3 (ipykernel)",
   "language": "python",
   "name": "python3"
  },
  "language_info": {
   "codemirror_mode": {
    "name": "ipython",
    "version": 3
   },
   "file_extension": ".py",
   "mimetype": "text/x-python",
   "name": "python",
   "nbconvert_exporter": "python",
   "pygments_lexer": "ipython3",
   "version": "3.10.12"
  }
 },
 "nbformat": 4,
 "nbformat_minor": 5
}
